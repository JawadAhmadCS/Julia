{
 "cells": [
  {
   "cell_type": "markdown",
   "id": "866d6be5-fe5e-40e0-a2f5-dfb16c20f5a1",
   "metadata": {},
   "source": [
    "# 1. Variables & Data Types"
   ]
  },
  {
   "cell_type": "code",
   "execution_count": 10,
   "id": "664fa765-9060-4f8d-b247-c58f47fb11fc",
   "metadata": {},
   "outputs": [
    {
     "name": "stdout",
     "output_type": "stream",
     "text": [
      "10 3.14 true Hello (10, \"Hello\", 3.14, true) [1, 2, 3, 4, 5] Dict{String, Any}(\"name\" => \"John\", \"city\" => \"New York\", \"age\" => 25) Set([4, 2, 3, 1]) 1:2:9 nothing missing\n"
     ]
    }
   ],
   "source": [
    "# Numeric Types\n",
    "x1 = 10             # Int64 (Integer)\n",
    "x2 = 3.14           # Float64 (Floating Point)\n",
    "x3 = 2.5f0          # Float32\n",
    "x4 = 0x1F           # Hexadecimal Integer\n",
    "x5 = 0b1010         # Binary Integer\n",
    "x6 = 0o77           # Octal Integer\n",
    "x7 = big\"12345678901234567890\"  # BigInt (Arbitrary Precision)\n",
    "x8 = 2 + 3im        # Complex Number\n",
    "x9 = 2//3           # Rational Number\n",
    "\n",
    "# Boolean Type\n",
    "b1 = true\n",
    "b2 = false\n",
    "\n",
    "# String & Character\n",
    "s1 = \"Hello\"        # String\n",
    "s2 = 'A'            # Character\n",
    "s3 = \"\"\"Multiline \n",
    "String\"\"\"           # Multiline String\n",
    "\n",
    "# Symbol Type\n",
    "sym = :mySymbol\n",
    "\n",
    "# Tuple (Immutable Collection)\n",
    "t = (10, \"Hello\", 3.14, true)\n",
    "\n",
    "# Array (Mutable Collection)\n",
    "arr1 = [1, 2, 3, 4, 5]   \n",
    "arr2 = [\"A\", \"B\", \"C\"]   \n",
    "arr3 = [1, \"Hello\", 3.5] \n",
    "\n",
    "# Dictionary (Key-Value Collection)\n",
    "dict = Dict(\"name\" => \"John\", \"age\" => 25, \"city\" => \"New York\")\n",
    "\n",
    "# Set (Unique Collection)\n",
    "s = Set([1, 2, 3, 3, 4])\n",
    "\n",
    "# Ranges (Memory-Efficient Sequence)\n",
    "r = 1:2:10  \n",
    "\n",
    "# Nothing Type (Null Equivalent)\n",
    "x = nothing\n",
    "\n",
    "# Missing Type (For Handling Missing Data)\n",
    "using Missings\n",
    "y = missing\n",
    "\n",
    "# Printing All Types\n",
    "println(x1, \" \", x2, \" \", b1, \" \", s1, \" \", t, \" \", arr1, \" \", dict, \" \", s, \" \", r, \" \", x, \" \", y)\n"
   ]
  },
  {
   "cell_type": "code",
   "execution_count": 6,
   "id": "cae007e2-5354-4ca2-909a-c4c6f772db25",
   "metadata": {},
   "outputs": [
    {
     "name": "stderr",
     "output_type": "stream",
     "text": [
      "\u001b[32m\u001b[1m    Updating\u001b[22m\u001b[39m registry at `C:\\Users\\mjawa\\.julia\\registries\\General.toml`\n",
      "\u001b[32m\u001b[1m   Resolving\u001b[22m\u001b[39m package versions...\n",
      "\u001b[32m\u001b[1m   Installed\u001b[22m\u001b[39m Missings ─ v1.2.0\n",
      "\u001b[32m\u001b[1m   Installed\u001b[22m\u001b[39m DataAPI ── v1.16.0\n",
      "\u001b[32m\u001b[1m    Updating\u001b[22m\u001b[39m `C:\\Users\\mjawa\\.julia\\environments\\v1.11\\Project.toml`\n",
      "  \u001b[90m[e1d29d7a] \u001b[39m\u001b[92m+ Missings v1.2.0\u001b[39m\n",
      "\u001b[32m\u001b[1m    Updating\u001b[22m\u001b[39m `C:\\Users\\mjawa\\.julia\\environments\\v1.11\\Manifest.toml`\n",
      "  \u001b[90m[9a962f9c] \u001b[39m\u001b[92m+ DataAPI v1.16.0\u001b[39m\n",
      "  \u001b[90m[e1d29d7a] \u001b[39m\u001b[92m+ Missings v1.2.0\u001b[39m\n",
      "\u001b[92m\u001b[1mPrecompiling\u001b[22m\u001b[39m project...\n",
      "    774.8 ms\u001b[32m  ✓ \u001b[39m\u001b[90mDataAPI\u001b[39m\n",
      "    627.0 ms\u001b[32m  ✓ \u001b[39mMissings\n",
      "  2 dependencies successfully precompiled in 3 seconds. 43 already precompiled.\n"
     ]
    }
   ],
   "source": [
    "import Pkg\n",
    "Pkg.add(\"Missings\")\n"
   ]
  },
  {
   "cell_type": "markdown",
   "id": "2eb35ea5-65a1-4312-a898-8e48c0565a53",
   "metadata": {},
   "source": [
    "# 2. Operators"
   ]
  },
  {
   "cell_type": "code",
   "execution_count": 13,
   "id": "9d62690e-0e6e-415b-ba2d-7a10ccdfaecb",
   "metadata": {},
   "outputs": [
    {
     "name": "stdout",
     "output_type": "stream",
     "text": [
      "false\n",
      "true\n",
      "false\n",
      "true\n",
      "false\n",
      "true\n"
     ]
    }
   ],
   "source": [
    "# Arithmetic Operators\n",
    "a = 10 + 5   # Addition\n",
    "b = 10 - 5   # Subtraction\n",
    "c = 10 * 5   # Multiplication\n",
    "d = 10 / 5   # Division\n",
    "e = 10 % 3   # Modulus\n",
    "f = 2^3      # Power (2^3 = 8)\n",
    "\n",
    "# Logical Operators\n",
    "println(true && false)  # AND\n",
    "println(true || false)  # OR\n",
    "println(!true)          # NOT\n",
    "\n",
    "# Comparison Operators\n",
    "println(10 > 5)   # true\n",
    "println(10 == 5)  # false\n",
    "println(10 != 5)  # true\n"
   ]
  },
  {
   "cell_type": "markdown",
   "id": "9d5e4307-391f-41d4-82da-36969aa094df",
   "metadata": {},
   "source": [
    "# 3. Conditional Statements"
   ]
  },
  {
   "cell_type": "code",
   "execution_count": 16,
   "id": "ebe54f1c-fc51-4b3b-80a3-80897809a0ab",
   "metadata": {},
   "outputs": [
    {
     "name": "stdout",
     "output_type": "stream",
     "text": [
      "x is greater than 5\n"
     ]
    }
   ],
   "source": [
    "x = 10\n",
    "\n",
    "if x > 5\n",
    "    println(\"x is greater than 5\")\n",
    "elseif x == 5\n",
    "    println(\"x is 5\")\n",
    "else\n",
    "    println(\"x is less than 5\")\n",
    "end\n"
   ]
  },
  {
   "cell_type": "markdown",
   "id": "d7d13197-bdb1-4b19-98b9-9ffc28ab6855",
   "metadata": {},
   "source": [
    "# 4. Loops"
   ]
  },
  {
   "cell_type": "code",
   "execution_count": 32,
   "id": "55c0461a-370d-44c4-95b3-0ad1b0e27624",
   "metadata": {},
   "outputs": [
    {
     "name": "stdout",
     "output_type": "stream",
     "text": [
      "Iteration: 1\n",
      "Iteration: 2\n",
      "Iteration: 3\n",
      "Iteration: 4\n",
      "Iteration: 5\n",
      "1\n",
      "3\n",
      "5\n",
      "7\n",
      "9\n",
      "Apple\n",
      "Banana\n",
      "Cherry\n",
      "i = 1, j = 1\n",
      "i = 1, j = 2\n",
      "i = 2, j = 1\n",
      "i = 2, j = 2\n",
      "i = 3, j = 1\n",
      "i = 3, j = 2\n",
      "Count: 1\n",
      "Count: 2\n",
      "Count: 3\n",
      "Count: 4\n",
      "Count: 5\n"
     ]
    }
   ],
   "source": [
    "# For loop\n",
    "for i in 1:5\n",
    "    println(\"Iteration: \", i)\n",
    "end\n",
    "\n",
    "for i in 1:2:10  # Start from 1, step size 2, up to 10\n",
    "    println(i)\n",
    "end\n",
    "\n",
    "arr = [\"Apple\", \"Banana\", \"Cherry\"]\n",
    "for fruit in arr\n",
    "    println(fruit)\n",
    "end\n",
    "\n",
    "for i in 1:3\n",
    "    for j in 1:2\n",
    "        println(\"i = \", i, \", j = \", j)\n",
    "    end\n",
    "end\n",
    "\n",
    "\n",
    "# While loop\n",
    "i = 1\n",
    "while i <= 5\n",
    "    println(\"Count: \", i)\n",
    "    i += 1\n",
    "end\n"
   ]
  },
  {
   "cell_type": "markdown",
   "id": "ece54931-07aa-4cd6-a3a3-25ba2a5e7233",
   "metadata": {},
   "source": [
    "# 5. Functions"
   ]
  },
  {
   "cell_type": "code",
   "execution_count": 37,
   "id": "c03d3e82-8b03-476f-a604-94f4c8a311e4",
   "metadata": {},
   "outputs": [
    {
     "name": "stdout",
     "output_type": "stream",
     "text": [
      "8\n"
     ]
    }
   ],
   "source": [
    "function add(a, b)\n",
    "    return a + b\n",
    "end\n",
    "\n",
    "println(add(3, 5))  # Output: 8\n"
   ]
  },
  {
   "cell_type": "markdown",
   "id": "95b62406-2aa8-4e28-8773-d53fa575c9c2",
   "metadata": {},
   "source": [
    "# 6. Modules & Imports"
   ]
  },
  {
   "cell_type": "code",
   "execution_count": 40,
   "id": "5a888748-1db6-4afb-9a73-9590c27076da",
   "metadata": {},
   "outputs": [
    {
     "name": "stdout",
     "output_type": "stream",
     "text": [
      "Hello, Julia\n"
     ]
    }
   ],
   "source": [
    "module MyModule\n",
    "export greet\n",
    "\n",
    "function greet(name)\n",
    "    println(\"Hello, \" * name)\n",
    "end\n",
    "\n",
    "end\n",
    "\n",
    "using .MyModule\n",
    "greet(\"Julia\")\n"
   ]
  },
  {
   "cell_type": "markdown",
   "id": "6ef0dc85-fa76-4ec5-b742-7ed9af392589",
   "metadata": {},
   "source": [
    "# 7. Structs & Tuples"
   ]
  },
  {
   "cell_type": "code",
   "execution_count": 43,
   "id": "2ae423e8-9c7d-4401-9117-4787445e6904",
   "metadata": {},
   "outputs": [
    {
     "name": "stdout",
     "output_type": "stream",
     "text": [
      "10\n",
      "Alice\n"
     ]
    }
   ],
   "source": [
    "# Tuple\n",
    "t = (10, \"Hello\", 3.14)\n",
    "println(t[1])  # Output: 10\n",
    "\n",
    "# Struct\n",
    "struct Person\n",
    "    name::String\n",
    "    age::Int\n",
    "end\n",
    "\n",
    "p = Person(\"Alice\", 25)\n",
    "println(p.name)  # Output: Alice\n"
   ]
  }
 ],
 "metadata": {
  "kernelspec": {
   "display_name": "Julia 1.11.3",
   "language": "julia",
   "name": "julia-1.11"
  },
  "language_info": {
   "file_extension": ".jl",
   "mimetype": "application/julia",
   "name": "julia",
   "version": "1.11.3"
  }
 },
 "nbformat": 4,
 "nbformat_minor": 5
}
